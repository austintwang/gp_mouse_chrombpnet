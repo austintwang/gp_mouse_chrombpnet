{
 "cells": [
  {
   "cell_type": "code",
   "execution_count": 1,
   "id": "f24beffa",
   "metadata": {},
   "outputs": [],
   "source": [
    "import numpy as np\n",
    "import pandas as pd\n",
    "import seaborn as sns\n",
    "import os\n",
    "sns.set_theme()"
   ]
  },
  {
   "cell_type": "code",
   "execution_count": 2,
   "id": "d71be79c",
   "metadata": {},
   "outputs": [],
   "source": [
    "data_dir = \"/oak/stanford/groups/akundaje/atwang/gp_mouse_sc_analyses/results/assembly_2/mm10/merge_peak_scores_downsampled\"\n",
    "data_path = os.path.join(data_dir, \"scores.tsv\")\n",
    "\n"
   ]
  },
  {
   "cell_type": "markdown",
   "id": "995b48be",
   "metadata": {},
   "source": [
    "# Per-Peak Visualizations\n",
    "\n",
    "Now, I look into the distributions of several metrics across individual mouse peaks."
   ]
  },
  {
   "cell_type": "code",
   "execution_count": 3,
   "id": "fa051890",
   "metadata": {
    "collapsed": false,
    "jupyter": {
     "outputs_hidden": false
    }
   },
   "outputs": [
    {
     "ename": "FileNotFoundError",
     "evalue": "[Errno 2] No such file or directory: '/oak/stanford/groups/akundaje/atwang/gp_mouse_sc_analyses/results/assembly_2/mm10/merge_peak_scores_downsampled/scores.tsv'",
     "output_type": "error",
     "traceback": [
      "\u001b[0;31m---------------------------------------------------------------------------\u001b[0m",
      "\u001b[0;31mFileNotFoundError\u001b[0m                         Traceback (most recent call last)",
      "Cell \u001b[0;32mIn[3], line 1\u001b[0m\n\u001b[0;32m----> 1\u001b[0m data \u001b[38;5;241m=\u001b[39m \u001b[43mpd\u001b[49m\u001b[38;5;241;43m.\u001b[39;49m\u001b[43mread_csv\u001b[49m\u001b[43m(\u001b[49m\u001b[43mdata_path\u001b[49m\u001b[43m,\u001b[49m\u001b[43m \u001b[49m\u001b[43msep\u001b[49m\u001b[38;5;241;43m=\u001b[39;49m\u001b[38;5;124;43m'\u001b[39;49m\u001b[38;5;130;43;01m\\t\u001b[39;49;00m\u001b[38;5;124;43m'\u001b[39;49m\u001b[43m,\u001b[49m\u001b[43m \u001b[49m\u001b[43mheader\u001b[49m\u001b[38;5;241;43m=\u001b[39;49m\u001b[38;5;241;43m0\u001b[39;49m\u001b[43m)\u001b[49m\n\u001b[1;32m      2\u001b[0m data\n",
      "File \u001b[0;32m~/miniconda3/envs/gp_mouse_genome_transfer_notebooks/lib/python3.10/site-packages/pandas/io/parsers/readers.py:912\u001b[0m, in \u001b[0;36mread_csv\u001b[0;34m(filepath_or_buffer, sep, delimiter, header, names, index_col, usecols, dtype, engine, converters, true_values, false_values, skipinitialspace, skiprows, skipfooter, nrows, na_values, keep_default_na, na_filter, verbose, skip_blank_lines, parse_dates, infer_datetime_format, keep_date_col, date_parser, date_format, dayfirst, cache_dates, iterator, chunksize, compression, thousands, decimal, lineterminator, quotechar, quoting, doublequote, escapechar, comment, encoding, encoding_errors, dialect, on_bad_lines, delim_whitespace, low_memory, memory_map, float_precision, storage_options, dtype_backend)\u001b[0m\n\u001b[1;32m    899\u001b[0m kwds_defaults \u001b[38;5;241m=\u001b[39m _refine_defaults_read(\n\u001b[1;32m    900\u001b[0m     dialect,\n\u001b[1;32m    901\u001b[0m     delimiter,\n\u001b[0;32m   (...)\u001b[0m\n\u001b[1;32m    908\u001b[0m     dtype_backend\u001b[38;5;241m=\u001b[39mdtype_backend,\n\u001b[1;32m    909\u001b[0m )\n\u001b[1;32m    910\u001b[0m kwds\u001b[38;5;241m.\u001b[39mupdate(kwds_defaults)\n\u001b[0;32m--> 912\u001b[0m \u001b[38;5;28;01mreturn\u001b[39;00m \u001b[43m_read\u001b[49m\u001b[43m(\u001b[49m\u001b[43mfilepath_or_buffer\u001b[49m\u001b[43m,\u001b[49m\u001b[43m \u001b[49m\u001b[43mkwds\u001b[49m\u001b[43m)\u001b[49m\n",
      "File \u001b[0;32m~/miniconda3/envs/gp_mouse_genome_transfer_notebooks/lib/python3.10/site-packages/pandas/io/parsers/readers.py:577\u001b[0m, in \u001b[0;36m_read\u001b[0;34m(filepath_or_buffer, kwds)\u001b[0m\n\u001b[1;32m    574\u001b[0m _validate_names(kwds\u001b[38;5;241m.\u001b[39mget(\u001b[38;5;124m\"\u001b[39m\u001b[38;5;124mnames\u001b[39m\u001b[38;5;124m\"\u001b[39m, \u001b[38;5;28;01mNone\u001b[39;00m))\n\u001b[1;32m    576\u001b[0m \u001b[38;5;66;03m# Create the parser.\u001b[39;00m\n\u001b[0;32m--> 577\u001b[0m parser \u001b[38;5;241m=\u001b[39m \u001b[43mTextFileReader\u001b[49m\u001b[43m(\u001b[49m\u001b[43mfilepath_or_buffer\u001b[49m\u001b[43m,\u001b[49m\u001b[43m \u001b[49m\u001b[38;5;241;43m*\u001b[39;49m\u001b[38;5;241;43m*\u001b[39;49m\u001b[43mkwds\u001b[49m\u001b[43m)\u001b[49m\n\u001b[1;32m    579\u001b[0m \u001b[38;5;28;01mif\u001b[39;00m chunksize \u001b[38;5;129;01mor\u001b[39;00m iterator:\n\u001b[1;32m    580\u001b[0m     \u001b[38;5;28;01mreturn\u001b[39;00m parser\n",
      "File \u001b[0;32m~/miniconda3/envs/gp_mouse_genome_transfer_notebooks/lib/python3.10/site-packages/pandas/io/parsers/readers.py:1407\u001b[0m, in \u001b[0;36mTextFileReader.__init__\u001b[0;34m(self, f, engine, **kwds)\u001b[0m\n\u001b[1;32m   1404\u001b[0m     \u001b[38;5;28mself\u001b[39m\u001b[38;5;241m.\u001b[39moptions[\u001b[38;5;124m\"\u001b[39m\u001b[38;5;124mhas_index_names\u001b[39m\u001b[38;5;124m\"\u001b[39m] \u001b[38;5;241m=\u001b[39m kwds[\u001b[38;5;124m\"\u001b[39m\u001b[38;5;124mhas_index_names\u001b[39m\u001b[38;5;124m\"\u001b[39m]\n\u001b[1;32m   1406\u001b[0m \u001b[38;5;28mself\u001b[39m\u001b[38;5;241m.\u001b[39mhandles: IOHandles \u001b[38;5;241m|\u001b[39m \u001b[38;5;28;01mNone\u001b[39;00m \u001b[38;5;241m=\u001b[39m \u001b[38;5;28;01mNone\u001b[39;00m\n\u001b[0;32m-> 1407\u001b[0m \u001b[38;5;28mself\u001b[39m\u001b[38;5;241m.\u001b[39m_engine \u001b[38;5;241m=\u001b[39m \u001b[38;5;28;43mself\u001b[39;49m\u001b[38;5;241;43m.\u001b[39;49m\u001b[43m_make_engine\u001b[49m\u001b[43m(\u001b[49m\u001b[43mf\u001b[49m\u001b[43m,\u001b[49m\u001b[43m \u001b[49m\u001b[38;5;28;43mself\u001b[39;49m\u001b[38;5;241;43m.\u001b[39;49m\u001b[43mengine\u001b[49m\u001b[43m)\u001b[49m\n",
      "File \u001b[0;32m~/miniconda3/envs/gp_mouse_genome_transfer_notebooks/lib/python3.10/site-packages/pandas/io/parsers/readers.py:1661\u001b[0m, in \u001b[0;36mTextFileReader._make_engine\u001b[0;34m(self, f, engine)\u001b[0m\n\u001b[1;32m   1659\u001b[0m     \u001b[38;5;28;01mif\u001b[39;00m \u001b[38;5;124m\"\u001b[39m\u001b[38;5;124mb\u001b[39m\u001b[38;5;124m\"\u001b[39m \u001b[38;5;129;01mnot\u001b[39;00m \u001b[38;5;129;01min\u001b[39;00m mode:\n\u001b[1;32m   1660\u001b[0m         mode \u001b[38;5;241m+\u001b[39m\u001b[38;5;241m=\u001b[39m \u001b[38;5;124m\"\u001b[39m\u001b[38;5;124mb\u001b[39m\u001b[38;5;124m\"\u001b[39m\n\u001b[0;32m-> 1661\u001b[0m \u001b[38;5;28mself\u001b[39m\u001b[38;5;241m.\u001b[39mhandles \u001b[38;5;241m=\u001b[39m \u001b[43mget_handle\u001b[49m\u001b[43m(\u001b[49m\n\u001b[1;32m   1662\u001b[0m \u001b[43m    \u001b[49m\u001b[43mf\u001b[49m\u001b[43m,\u001b[49m\n\u001b[1;32m   1663\u001b[0m \u001b[43m    \u001b[49m\u001b[43mmode\u001b[49m\u001b[43m,\u001b[49m\n\u001b[1;32m   1664\u001b[0m \u001b[43m    \u001b[49m\u001b[43mencoding\u001b[49m\u001b[38;5;241;43m=\u001b[39;49m\u001b[38;5;28;43mself\u001b[39;49m\u001b[38;5;241;43m.\u001b[39;49m\u001b[43moptions\u001b[49m\u001b[38;5;241;43m.\u001b[39;49m\u001b[43mget\u001b[49m\u001b[43m(\u001b[49m\u001b[38;5;124;43m\"\u001b[39;49m\u001b[38;5;124;43mencoding\u001b[39;49m\u001b[38;5;124;43m\"\u001b[39;49m\u001b[43m,\u001b[49m\u001b[43m \u001b[49m\u001b[38;5;28;43;01mNone\u001b[39;49;00m\u001b[43m)\u001b[49m\u001b[43m,\u001b[49m\n\u001b[1;32m   1665\u001b[0m \u001b[43m    \u001b[49m\u001b[43mcompression\u001b[49m\u001b[38;5;241;43m=\u001b[39;49m\u001b[38;5;28;43mself\u001b[39;49m\u001b[38;5;241;43m.\u001b[39;49m\u001b[43moptions\u001b[49m\u001b[38;5;241;43m.\u001b[39;49m\u001b[43mget\u001b[49m\u001b[43m(\u001b[49m\u001b[38;5;124;43m\"\u001b[39;49m\u001b[38;5;124;43mcompression\u001b[39;49m\u001b[38;5;124;43m\"\u001b[39;49m\u001b[43m,\u001b[49m\u001b[43m \u001b[49m\u001b[38;5;28;43;01mNone\u001b[39;49;00m\u001b[43m)\u001b[49m\u001b[43m,\u001b[49m\n\u001b[1;32m   1666\u001b[0m \u001b[43m    \u001b[49m\u001b[43mmemory_map\u001b[49m\u001b[38;5;241;43m=\u001b[39;49m\u001b[38;5;28;43mself\u001b[39;49m\u001b[38;5;241;43m.\u001b[39;49m\u001b[43moptions\u001b[49m\u001b[38;5;241;43m.\u001b[39;49m\u001b[43mget\u001b[49m\u001b[43m(\u001b[49m\u001b[38;5;124;43m\"\u001b[39;49m\u001b[38;5;124;43mmemory_map\u001b[39;49m\u001b[38;5;124;43m\"\u001b[39;49m\u001b[43m,\u001b[49m\u001b[43m \u001b[49m\u001b[38;5;28;43;01mFalse\u001b[39;49;00m\u001b[43m)\u001b[49m\u001b[43m,\u001b[49m\n\u001b[1;32m   1667\u001b[0m \u001b[43m    \u001b[49m\u001b[43mis_text\u001b[49m\u001b[38;5;241;43m=\u001b[39;49m\u001b[43mis_text\u001b[49m\u001b[43m,\u001b[49m\n\u001b[1;32m   1668\u001b[0m \u001b[43m    \u001b[49m\u001b[43merrors\u001b[49m\u001b[38;5;241;43m=\u001b[39;49m\u001b[38;5;28;43mself\u001b[39;49m\u001b[38;5;241;43m.\u001b[39;49m\u001b[43moptions\u001b[49m\u001b[38;5;241;43m.\u001b[39;49m\u001b[43mget\u001b[49m\u001b[43m(\u001b[49m\u001b[38;5;124;43m\"\u001b[39;49m\u001b[38;5;124;43mencoding_errors\u001b[39;49m\u001b[38;5;124;43m\"\u001b[39;49m\u001b[43m,\u001b[49m\u001b[43m \u001b[49m\u001b[38;5;124;43m\"\u001b[39;49m\u001b[38;5;124;43mstrict\u001b[39;49m\u001b[38;5;124;43m\"\u001b[39;49m\u001b[43m)\u001b[49m\u001b[43m,\u001b[49m\n\u001b[1;32m   1669\u001b[0m \u001b[43m    \u001b[49m\u001b[43mstorage_options\u001b[49m\u001b[38;5;241;43m=\u001b[39;49m\u001b[38;5;28;43mself\u001b[39;49m\u001b[38;5;241;43m.\u001b[39;49m\u001b[43moptions\u001b[49m\u001b[38;5;241;43m.\u001b[39;49m\u001b[43mget\u001b[49m\u001b[43m(\u001b[49m\u001b[38;5;124;43m\"\u001b[39;49m\u001b[38;5;124;43mstorage_options\u001b[39;49m\u001b[38;5;124;43m\"\u001b[39;49m\u001b[43m,\u001b[49m\u001b[43m \u001b[49m\u001b[38;5;28;43;01mNone\u001b[39;49;00m\u001b[43m)\u001b[49m\u001b[43m,\u001b[49m\n\u001b[1;32m   1670\u001b[0m \u001b[43m\u001b[49m\u001b[43m)\u001b[49m\n\u001b[1;32m   1671\u001b[0m \u001b[38;5;28;01massert\u001b[39;00m \u001b[38;5;28mself\u001b[39m\u001b[38;5;241m.\u001b[39mhandles \u001b[38;5;129;01mis\u001b[39;00m \u001b[38;5;129;01mnot\u001b[39;00m \u001b[38;5;28;01mNone\u001b[39;00m\n\u001b[1;32m   1672\u001b[0m f \u001b[38;5;241m=\u001b[39m \u001b[38;5;28mself\u001b[39m\u001b[38;5;241m.\u001b[39mhandles\u001b[38;5;241m.\u001b[39mhandle\n",
      "File \u001b[0;32m~/miniconda3/envs/gp_mouse_genome_transfer_notebooks/lib/python3.10/site-packages/pandas/io/common.py:859\u001b[0m, in \u001b[0;36mget_handle\u001b[0;34m(path_or_buf, mode, encoding, compression, memory_map, is_text, errors, storage_options)\u001b[0m\n\u001b[1;32m    854\u001b[0m \u001b[38;5;28;01melif\u001b[39;00m \u001b[38;5;28misinstance\u001b[39m(handle, \u001b[38;5;28mstr\u001b[39m):\n\u001b[1;32m    855\u001b[0m     \u001b[38;5;66;03m# Check whether the filename is to be opened in binary mode.\u001b[39;00m\n\u001b[1;32m    856\u001b[0m     \u001b[38;5;66;03m# Binary mode does not support 'encoding' and 'newline'.\u001b[39;00m\n\u001b[1;32m    857\u001b[0m     \u001b[38;5;28;01mif\u001b[39;00m ioargs\u001b[38;5;241m.\u001b[39mencoding \u001b[38;5;129;01mand\u001b[39;00m \u001b[38;5;124m\"\u001b[39m\u001b[38;5;124mb\u001b[39m\u001b[38;5;124m\"\u001b[39m \u001b[38;5;129;01mnot\u001b[39;00m \u001b[38;5;129;01min\u001b[39;00m ioargs\u001b[38;5;241m.\u001b[39mmode:\n\u001b[1;32m    858\u001b[0m         \u001b[38;5;66;03m# Encoding\u001b[39;00m\n\u001b[0;32m--> 859\u001b[0m         handle \u001b[38;5;241m=\u001b[39m \u001b[38;5;28;43mopen\u001b[39;49m\u001b[43m(\u001b[49m\n\u001b[1;32m    860\u001b[0m \u001b[43m            \u001b[49m\u001b[43mhandle\u001b[49m\u001b[43m,\u001b[49m\n\u001b[1;32m    861\u001b[0m \u001b[43m            \u001b[49m\u001b[43mioargs\u001b[49m\u001b[38;5;241;43m.\u001b[39;49m\u001b[43mmode\u001b[49m\u001b[43m,\u001b[49m\n\u001b[1;32m    862\u001b[0m \u001b[43m            \u001b[49m\u001b[43mencoding\u001b[49m\u001b[38;5;241;43m=\u001b[39;49m\u001b[43mioargs\u001b[49m\u001b[38;5;241;43m.\u001b[39;49m\u001b[43mencoding\u001b[49m\u001b[43m,\u001b[49m\n\u001b[1;32m    863\u001b[0m \u001b[43m            \u001b[49m\u001b[43merrors\u001b[49m\u001b[38;5;241;43m=\u001b[39;49m\u001b[43merrors\u001b[49m\u001b[43m,\u001b[49m\n\u001b[1;32m    864\u001b[0m \u001b[43m            \u001b[49m\u001b[43mnewline\u001b[49m\u001b[38;5;241;43m=\u001b[39;49m\u001b[38;5;124;43m\"\u001b[39;49m\u001b[38;5;124;43m\"\u001b[39;49m\u001b[43m,\u001b[49m\n\u001b[1;32m    865\u001b[0m \u001b[43m        \u001b[49m\u001b[43m)\u001b[49m\n\u001b[1;32m    866\u001b[0m     \u001b[38;5;28;01melse\u001b[39;00m:\n\u001b[1;32m    867\u001b[0m         \u001b[38;5;66;03m# Binary mode\u001b[39;00m\n\u001b[1;32m    868\u001b[0m         handle \u001b[38;5;241m=\u001b[39m \u001b[38;5;28mopen\u001b[39m(handle, ioargs\u001b[38;5;241m.\u001b[39mmode)\n",
      "\u001b[0;31mFileNotFoundError\u001b[0m: [Errno 2] No such file or directory: '/oak/stanford/groups/akundaje/atwang/gp_mouse_sc_analyses/results/assembly_2/mm10/merge_peak_scores_downsampled/scores.tsv'"
     ]
    }
   ],
   "source": [
    "\n",
    "data = pd.read_csv(data_path, sep='\\t', header=0)\n",
    "data"
   ]
  },
  {
   "cell_type": "markdown",
   "id": "a3395e68",
   "metadata": {},
   "source": [
    "## Mean vs Variance per peak\n",
    "\n",
    "Here, we look at the means and variances of divergence between species for each mouse peak.  \n",
    "\n",
    "The x axis for each subplot is the difference of the predicted log10 counts from the GP models and the mouse models, averaged over 5 folds. A positive value indicates a greater prediction from the GP models relative to the mouse models.\n",
    "\n",
    "The y axis is the estimated standard deviation across folds of the divergence between the two species' count outputs. A higher standard deviation indicates higher variances across folds.    \n",
    "The color indicates the significance of the difference between species for each peak, as evaluated using the Mann-Whitney U test on quantile-normalized predictions. I also looked into using DESeq also but I its assumptions are geared towards observed counts from experimental data and aren't really appropiate for analyzing predicted counts from models (more below).\n",
    "\n",
    "Here, we see basically no correlation between mean and variance, which directly contradicts with the assumptions made by DESeq. The exceptions are mCM-1-3, Other-2, and pCM-3, though these seem to be due to technical issues (more later)."
   ]
  },
  {
   "cell_type": "code",
   "execution_count": null,
   "id": "a490d922",
   "metadata": {
    "collapsed": false,
    "jupyter": {
     "outputs_hidden": false
    }
   },
   "outputs": [],
   "source": [
    "sns.relplot(data=data, x=\"diff_mean\", y=\"diff_std\", hue=\"-log10p_qn\", col=\"Label\", col_wrap=5, s=5, edgecolor=None)\n"
   ]
  },
  {
   "cell_type": "markdown",
   "id": "ff97bc90",
   "metadata": {},
   "source": [
    "## Mouse vs. GP predictions\n",
    "\n",
    "Next, we look at the mean predictions of the mouse and GP models on the mouse peaks.  \n",
    "\n",
    "The x axis is the mean predicted log10 counts as predicted by the mouse models, averaged across 5 folds. The y axis is the mean predicted log10 counts as predicted by the GP models.\n",
    "\n",
    "And as before, the color indicates the significance of the difference between species.\n",
    "\n",
    "Note that within each species and each cell types, the predicted log counts are zero-centered across peaks to account for read depth differences across species. Thus, the intercept in the plots are always zero. \n",
    "\n",
    "For most cell types, the relationship between the axes is linear with a slope of 1. \n",
    "\n",
    "However, for some cell types, the slope is significantly different than 1 or even non-linear. I account for this when calculating significance by quantile-normalizing the predicted counts from each model. It is unclear whether this phenomenon is an artifact of training or represents real biology. "
   ]
  },
  {
   "cell_type": "code",
   "execution_count": null,
   "id": "556f1013",
   "metadata": {
    "collapsed": false,
    "jupyter": {
     "outputs_hidden": false
    }
   },
   "outputs": [],
   "source": [
    "g = sns.relplot(data=data, x=\"c\", y=\"xs_mean\", hue=\"-log10p_qn\", col=\"Label\", col_wrap=5, s=5, edgecolor=None)\n",
    "# g.set(xscale=\"log\")\n",
    "# g.set(yscale=\"log\")"
   ]
  },
  {
   "cell_type": "code",
   "execution_count": null,
   "id": "3af6ac1f",
   "metadata": {
    "collapsed": false,
    "jupyter": {
     "outputs_hidden": false
    }
   },
   "outputs": [],
   "source": [
    "g = sns.relplot(data=data, x=\"diff_mean_qn\", y=\"prof_e_dist\", col=\"Label\", hue=\"-log10p_qn\", col_wrap=5, s=5, edgecolor=None)"
   ]
  },
  {
   "cell_type": "code",
   "execution_count": null,
   "id": "d1f610ec",
   "metadata": {
    "collapsed": false,
    "jupyter": {
     "outputs_hidden": false
    }
   },
   "outputs": [],
   "source": [
    "g = sns.relplot(data=data, x=\"diff_mean_qn\", y=\"contrib_counts_e_dist\", col=\"Label\", hue=\"-log10p_qn\", col_wrap=5, s=5, edgecolor=None)"
   ]
  },
  {
   "cell_type": "code",
   "execution_count": null,
   "id": "b3752ce0",
   "metadata": {
    "collapsed": false,
    "jupyter": {
     "outputs_hidden": false
    }
   },
   "outputs": [],
   "source": [
    "g = sns.relplot(data=data, x=\"diff_mean_qn\", y=\"contrib_profiles_e_dist\", col=\"Label\", hue=\"-log10p_qn\", col_wrap=5, s=5, edgecolor=None)"
   ]
  },
  {
   "cell_type": "code",
   "execution_count": null,
   "id": "8eb083d0",
   "metadata": {
    "collapsed": false,
    "jupyter": {
     "outputs_hidden": false
    }
   },
   "outputs": [],
   "source": [
    "g = sns.relplot(data=data, x=\"contrib_counts_e_dist\", y=\"contrib_profiles_e_dist\", col=\"Label\", hue=\"-log10p_qn\", col_wrap=5, s=5, edgecolor=None)"
   ]
  },
  {
   "cell_type": "code",
   "execution_count": null,
   "id": "815e9394",
   "metadata": {
    "collapsed": false,
    "jupyter": {
     "outputs_hidden": false
    }
   },
   "outputs": [],
   "source": [
    "g = sns.relplot(data=data, x=\"contrib_counts_e_dist\", y=\"prof_e_dist\", col=\"Label\", hue=\"-log10p_qn\", col_wrap=5, s=5, edgecolor=None)"
   ]
  },
  {
   "cell_type": "code",
   "execution_count": null,
   "id": "0f721359",
   "metadata": {
    "collapsed": false,
    "jupyter": {
     "outputs_hidden": false
    }
   },
   "outputs": [],
   "source": [
    "g = sns.relplot(data=data, x=\"contrib_profiles_e_dist\", y=\"prof_e_dist\", col=\"Label\", hue=\"-log10p_qn\", col_wrap=5, s=5, edgecolor=None)"
   ]
  },
  {
   "cell_type": "code",
   "execution_count": null,
   "id": "8fcaed33",
   "metadata": {
    "collapsed": false,
    "jupyter": {
     "outputs_hidden": false
    }
   },
   "outputs": [],
   "source": [
    "sns.relplot(data=data, x=\"cross_contrib_counts_dist_mean\", y=\"contrib_counts_e_dist\", col=\"Label\", hue=\"contrib_counts_nlp\", hue_norm=(0,3), col_wrap=5, s=5, edgecolor=None)"
   ]
  },
  {
   "cell_type": "code",
   "execution_count": null,
   "id": "9ae700fe",
   "metadata": {
    "collapsed": false,
    "jupyter": {
     "outputs_hidden": false
    }
   },
   "outputs": [],
   "source": [
    "sns.relplot(data=data, x=\"cross_contrib_profiles_dist_mean\", y=\"contrib_profiles_e_dist\", col=\"Label\", hue=\"contrib_profiles_nlp\", hue_norm=(0,3), col_wrap=5, s=5, edgecolor=None)"
   ]
  },
  {
   "cell_type": "code",
   "execution_count": null,
   "id": "4a841c8e",
   "metadata": {
    "collapsed": false,
    "jupyter": {
     "outputs_hidden": false
    }
   },
   "outputs": [],
   "source": [
    "g = sns.relplot(data=data, x=\"ss_mean\", y=\"xs_mean\", hue=\"contrib_counts_e_dist\", col=\"Label\", col_wrap=5, s=5, edgecolor=None)\n",
    "# g.set(xscale=\"log\")\n",
    "# g.set(yscale=\"log\")"
   ]
  },
  {
   "cell_type": "code",
   "execution_count": null,
   "id": "99746303",
   "metadata": {
    "collapsed": false,
    "jupyter": {
     "outputs_hidden": false
    }
   },
   "outputs": [],
   "source": [
    "g = sns.relplot(data=data, x=\"ss_mean\", y=\"xs_mean\", hue=\"contrib_profiles_e_dist\", col=\"Label\", col_wrap=5, s=5, edgecolor=None)\n",
    "# g.set(xscale=\"log\")\n",
    "# g.set(yscale=\"log\")"
   ]
  },
  {
   "cell_type": "code",
   "execution_count": null,
   "id": "a4d17e0e",
   "metadata": {
    "collapsed": false,
    "jupyter": {
     "outputs_hidden": false
    }
   },
   "outputs": [],
   "source": [
    "sns.relplot(data=data, x=\"cross_contrib_counts_dist_mean\", y=\"contrib_counts_e_dist\", col=\"Label\", hue=\"-log10p_qn\", hue_norm=(0,3), col_wrap=5, s=5, edgecolor=None)"
   ]
  },
  {
   "cell_type": "code",
   "execution_count": null,
   "id": "1863f80d",
   "metadata": {
    "collapsed": false,
    "jupyter": {
     "outputs_hidden": false
    }
   },
   "outputs": [],
   "source": [
    "sns.relplot(data=data, x=\"ss_self_contrib_counts_dist_mean\", y=\"xs_self_contrib_counts_dist_mean\", col=\"Label\", col_wrap=5, s=5, edgecolor=None)\n"
   ]
  },
  {
   "cell_type": "code",
   "execution_count": null,
   "id": "fbc7a521",
   "metadata": {
    "collapsed": false,
    "jupyter": {
     "outputs_hidden": false
    }
   },
   "outputs": [],
   "source": [
    "sns.relplot(data=data, x=\"ss_self_contrib_counts_dist_mean\", y=\"cross_contrib_counts_dist_mean\", col=\"Label\", col_wrap=5, s=5, edgecolor=None)\n"
   ]
  },
  {
   "cell_type": "code",
   "execution_count": null,
   "id": "15bfe631",
   "metadata": {
    "collapsed": false,
    "jupyter": {
     "outputs_hidden": false
    }
   },
   "outputs": [],
   "source": [
    "sns.relplot(data=data, x=\"ss_self_contrib_profiles_dist_mean\", y=\"xs_self_contrib_profiles_dist_mean\", col=\"Label\", col_wrap=5, s=5, edgecolor=None)\n"
   ]
  },
  {
   "cell_type": "code",
   "execution_count": null,
   "id": "865dae09",
   "metadata": {
    "collapsed": false,
    "jupyter": {
     "outputs_hidden": false
    }
   },
   "outputs": [],
   "source": [
    "sns.relplot(data=data, x=\"ss_self_contrib_counts_dist_mean\", y=\"xs_self_contrib_counts_dist_mean\", col=\"Label\", hue=\"obs_logcounts\", col_wrap=5, s=5, edgecolor=None)\n"
   ]
  },
  {
   "cell_type": "code",
   "execution_count": null,
   "id": "4d6c3852",
   "metadata": {
    "collapsed": false,
    "jupyter": {
     "outputs_hidden": false
    }
   },
   "outputs": [],
   "source": [
    "sns.relplot(data=data, x=\"ss_self_contrib_counts_dist_mean\", y=\"xs_self_contrib_counts_dist_mean\", col=\"Label\", hue=\"ss_mean\", col_wrap=5, s=5, edgecolor=None)\n"
   ]
  },
  {
   "cell_type": "code",
   "execution_count": null,
   "id": "7cb53a6c",
   "metadata": {
    "collapsed": false,
    "jupyter": {
     "outputs_hidden": false
    }
   },
   "outputs": [],
   "source": [
    "sns.relplot(data=data, x=\"ss_self_contrib_counts_dist_mean\", y=\"cross_contrib_counts_dist_mean\", col=\"Label\", hue=\"-log10p_qn\", col_wrap=5, s=5, edgecolor=None)\n"
   ]
  },
  {
   "cell_type": "code",
   "execution_count": null,
   "id": "b1a51221",
   "metadata": {
    "collapsed": false,
    "jupyter": {
     "outputs_hidden": false
    }
   },
   "outputs": [],
   "source": [
    "sns.relplot(data=data, x=\"ss_self_contrib_counts_dist_mean\", y=\"xs_self_contrib_counts_dist_mean\", col=\"Label\", hue=\"-log10p_qn\", col_wrap=5, s=5, edgecolor=None)\n"
   ]
  },
  {
   "cell_type": "code",
   "execution_count": null,
   "id": "7743c7f0",
   "metadata": {
    "collapsed": false,
    "jupyter": {
     "outputs_hidden": false
    }
   },
   "outputs": [],
   "source": [
    "from scipy import stats\n",
    "\n",
    "grouped = data.groupby(\"Label\")\n",
    "header = [\"Label\", \"SpearmanSame\", \"SpearmanCross\", \"SpearmanCrossPooled\", \"SpearmanObserved\"]\n",
    "records = []\n",
    "for name, group in grouped:\n",
    "    fold_0_ss = group[['fold_0_ss']].to_numpy()\n",
    "    fold_1_ss = group[['fold_1_ss']].to_numpy()\n",
    "    fold_0_xs = group[['fold_0_xs']].to_numpy()\n",
    "    ss_mean = group[['ss_mean']].to_numpy()\n",
    "    xs_mean = group[['xs_mean']].to_numpy()\n",
    "    observed = group[['obs_logcounts']].to_numpy()\n",
    "    corr_ss = stats.spearmanr(fold_0_ss, fold_1_ss).correlation\n",
    "    corr_xs = stats.spearmanr(fold_0_ss, fold_0_xs).correlation\n",
    "    corr_xs_pooled = stats.spearmanr(ss_mean, xs_mean).correlation\n",
    "    corr_observed = stats.spearmanr(fold_0_ss, observed).correlation\n",
    "    records.append([name, corr_ss, corr_xs, corr_xs_pooled, corr_observed])\n",
    "    \n",
    "corrs = pd.DataFrame.from_records(records, columns=header)\n",
    "corrs"
   ]
  },
  {
   "cell_type": "code",
   "execution_count": null,
   "id": "2fabcfe9",
   "metadata": {
    "collapsed": false,
    "jupyter": {
     "outputs_hidden": false
    }
   },
   "outputs": [],
   "source": [
    "sns.relplot(data=data, x=\"fold_0_ss\", y=\"obs_logcounts\", hue=\"-log10p_qn\", col=\"Label\", col_wrap=5, s=5, edgecolor=None)\n"
   ]
  },
  {
   "cell_type": "markdown",
   "id": "67e48cb6",
   "metadata": {},
   "source": [
    "## Predicted vs. True counts\n",
    "\n",
    "We look a the fold 0 mouse model predictions compared the true counts on mouse peaks.  \n",
    "\n",
    "The x axis is the predicted log10 counts as predicted by the mouse model. The y axis is the log1p true counts for the same peaks. Note that these values are on different scales but they are linearly related.\n",
    "\n",
    "And as before, the color indicates the significance of the difference between species.\n",
    "\n",
    "There seems to be an enrichment of significant peaks in inputs with low model predictive accuracy. This indicates potential false positives we should watch out for. "
   ]
  },
  {
   "cell_type": "markdown",
   "id": "c7c9488c",
   "metadata": {},
   "source": [
    "## Predicted vs. predicted counts\n",
    "\n",
    "We look a the fold 0 mouse model predictions compared the fold 1 mouse model predictions.  \n",
    "\n",
    "The x axis is the predicted log10 counts as predicted by the fold 0 mouse model. The y axis is the predicted log10 counts as predicted by the fold 1 mouse model.\n",
    "\n",
    "And as before, the color indicates the significance of the difference between species.\n",
    "\n",
    "There seems to be an enrichment of significant peaks in inputs with low model predictive accuracy. This indicates potential false positives we should watch out for. "
   ]
  },
  {
   "cell_type": "code",
   "execution_count": null,
   "id": "d4a71801",
   "metadata": {
    "collapsed": false,
    "jupyter": {
     "outputs_hidden": false
    }
   },
   "outputs": [],
   "source": [
    "sns.relplot(data=data, x=\"fold_0_ss\", y=\"fold_1_ss\", hue=\"-log10p_qn\", col=\"Label\", col_wrap=5, s=5, edgecolor=None)\n"
   ]
  },
  {
   "cell_type": "markdown",
   "id": "7f3d038c",
   "metadata": {},
   "source": [
    "## Predicted vs. cross-species predicted counts\n",
    "\n",
    "We look a the fold 0 mouse model predictions compared the fold 0 GP model predictions.  \n",
    "\n",
    "The x axis is the predicted log10 counts as predicted by the fold 0 mouse model. The y axis is the predicted log10 counts as predicted by the fold 0 GP model.\n",
    "\n",
    "And as before, the color indicates the significance of the difference between species.\n",
    "\n",
    "As expected, significantly different peaks tend to be at the edges of the distribution"
   ]
  },
  {
   "cell_type": "code",
   "execution_count": null,
   "id": "ea4f4f20",
   "metadata": {
    "collapsed": false,
    "jupyter": {
     "outputs_hidden": false
    }
   },
   "outputs": [],
   "source": [
    "sns.relplot(data=data, x=\"fold_0_ss\", y=\"fold_0_xs\", hue=\"-log10p_qn\", col=\"Label\", col_wrap=5, s=5, edgecolor=None)\n"
   ]
  },
  {
   "cell_type": "markdown",
   "id": "002c5345",
   "metadata": {},
   "source": [
    "## Quantitative cross-species prediction performance\n",
    "\n",
    "Lastly, we look at the predictive cross_species performance for each cell type using spearman correlation across peaks.\n",
    "\n",
    "SpearmanSame is the correlation of predicted counts from two folds of mouse model. This serves as an upper bound of cross-species predictive performance\n",
    "\n",
    "SpearmanCross is the correlation of predicted counts from a mouse model with the predicted counts from the corresponding GP model. \n",
    "\n",
    "SpearmanObserved is the correlation of observed counts from a mouse model with true observed mouse counts.\n",
    "\n",
    "We see that SpearmanCross is substantially closer to SpearmanSame than to SpearmanObserved, indicating that the predicted counts between two species correspond much more strongly than the predicted vs. true counts in the same species"
   ]
  }
 ],
 "metadata": {
  "kernelspec": {
   "display_name": "gp_mouse_genome_transfer_notebooks",
   "language": "python",
   "name": "gp_mouse_genome_transfer_notebooks"
  },
  "language_info": {
   "codemirror_mode": {
    "name": "ipython",
    "version": 3
   },
   "file_extension": ".py",
   "mimetype": "text/x-python",
   "name": "python",
   "nbconvert_exporter": "python",
   "pygments_lexer": "ipython3",
   "version": "3.10.12"
  }
 },
 "nbformat": 4,
 "nbformat_minor": 5
}
