{
 "cells": [
  {
   "cell_type": "code",
   "execution_count": 1,
   "id": "b79ec740-f80d-4e8b-8bee-a98fa2c1609b",
   "metadata": {},
   "outputs": [],
   "source": [
    "import numpy as np\n",
    "import h5py\n",
    "import hdf5plugin\n",
    "import os\n",
    "import seaborn as sns\n",
    "\n",
    "sns.set()\n"
   ]
  },
  {
   "cell_type": "code",
   "execution_count": 2,
   "id": "01ce4c74-505a-4177-a4a3-6d0bad29f6d4",
   "metadata": {},
   "outputs": [],
   "source": [
    "\n",
    "h5_path = \"/oak/stanford/groups/akundaje/atwang/gp_mouse_sc_analyses/results/assembly_2/mm10/modisco_l1_counts_ss/endothelial_cell/modisco_results.h5\""
   ]
  },
  {
   "cell_type": "code",
   "execution_count": 3,
   "id": "e70aebd5-c662-40ce-9310-fef71dd2ac5d",
   "metadata": {},
   "outputs": [
    {
     "data": {
      "text/plain": [
       "<KeysViewHDF5 ['pos_patterns']>"
      ]
     },
     "execution_count": 3,
     "metadata": {},
     "output_type": "execute_result"
    }
   ],
   "source": [
    "h5_data = h5py.File(h5_path, 'r')\n",
    "h5_data.keys()"
   ]
  },
  {
   "cell_type": "code",
   "execution_count": 18,
   "id": "4bdb0103-1597-4d28-9122-e159cd7a7666",
   "metadata": {},
   "outputs": [],
   "source": [
    "def aggregate_pattern_starts(h5_data, pattern_type, pattern_name):\n",
    "    pattern = h5_data[pattern_type][pattern_name][\"seqlets\"]\n",
    "    # pos = pattern[\"start\"][:] - 1057\n",
    "    # print(pos[:5])\n",
    "    pos_if_fc = pattern[\"start\"][:] - 200\n",
    "    pos_if_rc = 400 - pattern[\"end\"][:] - 1 - 200 \n",
    "    \n",
    "    mask_rc = pattern[\"is_revcomp\"][:].astype(int)\n",
    "    mask_fc = 1 - mask_rc\n",
    "\n",
    "    pos = pos_if_fc * mask_fc + pos_if_rc * mask_rc\n",
    "\n",
    "    return pos\n",
    "    "
   ]
  },
  {
   "cell_type": "code",
   "execution_count": 19,
   "id": "255156c1-69f4-4dec-8cb2-9dfea8ac285b",
   "metadata": {},
   "outputs": [],
   "source": [
    "# def aggregate_pattern_starts(h5_data, pattern_type, pattern_name):\n",
    "#     pattern = h5_data[pattern_type][pattern_name][\"seqlets\"]\n",
    "#     pos = pattern[\"start\"][:]\n",
    "\n",
    "#     return pos\n",
    "    "
   ]
  },
  {
   "cell_type": "code",
   "execution_count": 33,
   "id": "b531b61f-48b3-45b0-9361-dc92f2c5ddc5",
   "metadata": {},
   "outputs": [],
   "source": [
    "pattern_type = \"pos_patterns\"\n",
    "pattern_name = \"pattern_6\""
   ]
  },
  {
   "cell_type": "code",
   "execution_count": 34,
   "id": "2dc50de1-1b15-4bb6-841e-c1f938e603d5",
   "metadata": {},
   "outputs": [],
   "source": [
    "pos = aggregate_pattern_starts(h5_data, pattern_type, pattern_name)"
   ]
  },
  {
   "cell_type": "code",
   "execution_count": 35,
   "id": "c3bb3829-5cc2-4278-acf1-a85e33e389ff",
   "metadata": {},
   "outputs": [
    {
     "data": {
      "text/plain": [
       "(-200.0, 200.0)"
      ]
     },
     "execution_count": 35,
     "metadata": {},
     "output_type": "execute_result"
    },
    {
     "data": {
      "image/png": "[encoded data removed]",
      "text/plain": [
       "<Figure size 640x480 with 1 Axes>"
      ]
     },
     "metadata": {},
     "output_type": "display_data"
    }
   ],
   "source": [
    "ax = sns.histplot(data=pos)\n",
    "ax.set_xlim(-200, 200)"
   ]
  },
  {
   "cell_type": "code",
   "execution_count": null,
   "id": "890adf8d-5e00-42c3-b247-a79dae8d74b8",
   "metadata": {},
   "outputs": [],
   "source": []
  }
 ],
 "metadata": {
  "kernelspec": {
   "display_name": "gp_mouse_genome_transfer_notebooks",
   "language": "python",
   "name": "gp_mouse_genome_transfer_notebooks"
  },
  "language_info": {
   "codemirror_mode": {
    "name": "ipython",
    "version": 3
   },
   "file_extension": ".py",
   "mimetype": "text/x-python",
   "name": "python",
   "nbconvert_exporter": "python",
   "pygments_lexer": "ipython3",
   "version": "3.10.12"
  }
 },
 "nbformat": 4,
 "nbformat_minor": 5
}
