{
 "cells": [
  {
   "cell_type": "code",
   "execution_count": 1,
   "id": "b79ec740-f80d-4e8b-8bee-a98fa2c1609b",
   "metadata": {},
   "outputs": [],
   "source": [
    "import numpy as np\n",
    "import h5py\n",
    "import hdf5plugin\n",
    "import os\n"
   ]
  },
  {
   "cell_type": "code",
   "execution_count": 2,
   "id": "01ce4c74-505a-4177-a4a3-6d0bad29f6d4",
   "metadata": {},
   "outputs": [],
   "source": [
    "\n",
    "h5_path = \"/oak/stanford/groups/akundaje/atwang/gp_mouse_sc_analyses/results/assembly_2/mm10/modisco_l1_counts_ss/macrophage/modisco_results.h5\""
   ]
  },
  {
   "cell_type": "code",
   "execution_count": 3,
   "id": "e70aebd5-c662-40ce-9310-fef71dd2ac5d",
   "metadata": {},
   "outputs": [
    {
     "data": {
      "text/plain": [
       "<KeysViewHDF5 ['pos_patterns']>"
      ]
     },
     "execution_count": 3,
     "metadata": {},
     "output_type": "execute_result"
    }
   ],
   "source": [
    "h5_data = h5py.File(h5_path, 'r')\n",
    "h5_data.keys()"
   ]
  },
  {
   "cell_type": "code",
   "execution_count": 9,
   "id": "146465bd-fd6d-4035-aafa-37fca949de27",
   "metadata": {},
   "outputs": [
    {
     "data": {
      "text/plain": [
       "<KeysViewHDF5 ['contrib_scores', 'hypothetical_contribs', 'seqlets', 'sequence', 'subpattern_0', 'subpattern_1', 'subpattern_10', 'subpattern_11', 'subpattern_12', 'subpattern_13', 'subpattern_14', 'subpattern_15', 'subpattern_16', 'subpattern_17', 'subpattern_18', 'subpattern_19', 'subpattern_2', 'subpattern_20', 'subpattern_21', 'subpattern_3', 'subpattern_4', 'subpattern_5', 'subpattern_6', 'subpattern_7', 'subpattern_8', 'subpattern_9']>"
      ]
     },
     "execution_count": 9,
     "metadata": {},
     "output_type": "execute_result"
    }
   ],
   "source": [
    "h5_data[\"pos_patterns\"][\"pattern_0\"].keys()"
   ]
  },
  {
   "cell_type": "code",
   "execution_count": 10,
   "id": "e827f79f-e1db-4fcd-ae17-8ad5c67be7fc",
   "metadata": {},
   "outputs": [
    {
     "data": {
      "text/plain": [
       "<KeysViewHDF5 ['contrib_scores', 'end', 'example_idx', 'hypothetical_contribs', 'is_revcomp', 'n_seqlets', 'sequence', 'start']>"
      ]
     },
     "execution_count": 10,
     "metadata": {},
     "output_type": "execute_result"
    }
   ],
   "source": [
    "h5_data[\"pos_patterns\"][\"pattern_0\"][\"seqlets\"].keys()"
   ]
  },
  {
   "cell_type": "code",
   "execution_count": 12,
   "id": "5248020b-0b98-4174-92a8-8013d42471c4",
   "metadata": {},
   "outputs": [
    {
     "data": {
      "text/plain": [
       "array([17175])"
      ]
     },
     "execution_count": 12,
     "metadata": {},
     "output_type": "execute_result"
    }
   ],
   "source": [
    "h5_data[\"pos_patterns\"][\"pattern_0\"][\"seqlets\"][\"n_seqlets\"][:]"
   ]
  },
  {
   "cell_type": "code",
   "execution_count": 15,
   "id": "2562b05d-756b-4e89-b469-f71659c48822",
   "metadata": {},
   "outputs": [
    {
     "data": {
      "text/plain": [
       "array([55758, 30508, 50972, 42351, 30853])"
      ]
     },
     "execution_count": 15,
     "metadata": {},
     "output_type": "execute_result"
    }
   ],
   "source": [
    "h5_data[\"pos_patterns\"][\"pattern_0\"][\"seqlets\"][\"example_idx\"][:5]"
   ]
  },
  {
   "cell_type": "code",
   "execution_count": 4,
   "id": "2de85ccf-d816-435f-94f8-0bfb6754c759",
   "metadata": {},
   "outputs": [],
   "source": [
    "# h5_data[\"shap\"]['seq'][2,:,1000:1005]"
   ]
  },
  {
   "cell_type": "code",
   "execution_count": 5,
   "id": "5c0fd493-8fff-479d-bc8e-c6f8c06ac50c",
   "metadata": {},
   "outputs": [],
   "source": [
    "# h5_data[\"raw\"]['seq'][2,:,1000:1005]"
   ]
  },
  {
   "cell_type": "code",
   "execution_count": 6,
   "id": "8b7a1bdb-ba91-44b2-aaf1-bdcf5511ed19",
   "metadata": {},
   "outputs": [],
   "source": [
    "# h5_data[\"projected_shap\"]['seq']"
   ]
  },
  {
   "cell_type": "code",
   "execution_count": 7,
   "id": "b55be2ff-ff51-4f76-95ff-a2ef06328d2c",
   "metadata": {},
   "outputs": [],
   "source": [
    "# h5_data[\"projected_shap\"]['seq'][2,:,1000:1005]"
   ]
  },
  {
   "cell_type": "code",
   "execution_count": null,
   "id": "2dc50de1-1b15-4bb6-841e-c1f938e603d5",
   "metadata": {},
   "outputs": [],
   "source": []
  }
 ],
 "metadata": {
  "kernelspec": {
   "display_name": "gp_mouse_genome_transfer_notebooks",
   "language": "python",
   "name": "gp_mouse_genome_transfer_notebooks"
  },
  "language_info": {
   "codemirror_mode": {
    "name": "ipython",
    "version": 3
   },
   "file_extension": ".py",
   "mimetype": "text/x-python",
   "name": "python",
   "nbconvert_exporter": "python",
   "pygments_lexer": "ipython3",
   "version": "3.10.12"
  }
 },
 "nbformat": 4,
 "nbformat_minor": 5
}
